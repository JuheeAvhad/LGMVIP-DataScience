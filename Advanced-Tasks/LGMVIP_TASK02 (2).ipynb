{
  "cells": [
    {
      "cell_type": "markdown",
      "metadata": {
        "id": "IoMtVqR2m5UO"
      },
      "source": [
        "NAME: JUHEE AVHAD\n",
        "\n",
        "DATA SCIENCE INTERN AT LETSGROWMORE LGMVIPAUGUST22\n",
        "\n",
        "ADVANCED LEVEL TASK 2 : Next Word Prediction\n",
        "\n",
        "STEP 1: IMPORT ALL THE REQUIRED PYTHON LIBRARIES"
      ]
    },
    {
      "cell_type": "code",
      "execution_count": 1,
      "metadata": {
        "id": "gSIYtz_Dmqf6"
      },
      "outputs": [],
      "source": [
        "import numpy as np\n",
        "from nltk.tokenize import RegexpTokenizer\n",
        "from tensorflow.keras.models import Sequential, load_model\n",
        "from tensorflow.keras.layers import LSTM\n",
        "from keras.layers.core import Dense, Activation\n",
        "from tensorflow.keras.optimizers import RMSprop\n",
        "import matplotlib.pyplot as plt\n",
        "import pickle\n",
        "import heapq"
      ]
    },
    {
      "cell_type": "code",
      "source": [
        "text = open('1661-0.txt' ,encoding ='UTF-8').read().lower()\n",
        "print('corpus length:', len(text))"
      ],
      "metadata": {
        "colab": {
          "base_uri": "https://localhost:8080/"
        },
        "id": "80bMNscC9zt1",
        "outputId": "de7d5809-c600-4b93-d950-ea66171e87fd"
      },
      "execution_count": 9,
      "outputs": [
        {
          "output_type": "stream",
          "name": "stdout",
          "text": [
            "corpus length: 581888\n"
          ]
        }
      ]
    },
    {
      "cell_type": "code",
      "execution_count": 11,
      "metadata": {
        "id": "2lbfz1KAoEeq"
      },
      "outputs": [],
      "source": [
        "tokenizer = RegexpTokenizer(r'\\w+')\n",
        "words = tokenizer.tokenize(text)"
      ]
    },
    {
      "cell_type": "code",
      "execution_count": 12,
      "metadata": {
        "id": "ZtdAhqDjoEcU"
      },
      "outputs": [],
      "source": [
        "unique_words = np.unique(words)\n",
        "unique_word_index = dict((c, i) for i, c in enumerate(unique_words))"
      ]
    },
    {
      "cell_type": "code",
      "execution_count": 13,
      "metadata": {
        "colab": {
          "base_uri": "https://localhost:8080/"
        },
        "id": "Y3MTGCPJoEZb",
        "outputId": "dbcf1577-fcbf-4b62-88a4-3edb0eac6bff"
      },
      "outputs": [
        {
          "output_type": "stream",
          "name": "stdout",
          "text": [
            "['project', 'gutenberg', 's', 'the', 'adventures']\n",
            "of\n"
          ]
        }
      ],
      "source": [
        "WORD_LENGTH = 5\n",
        "prev_words = []\n",
        "next_words = []\n",
        "for i in range(len(words) - WORD_LENGTH):\n",
        "    prev_words.append(words[i:i + WORD_LENGTH])\n",
        "    next_words.append(words[i + WORD_LENGTH])\n",
        "print(prev_words[0])\n",
        "print(next_words[0])"
      ]
    },
    {
      "cell_type": "code",
      "execution_count": 14,
      "metadata": {
        "id": "AEitjXjgoEWN"
      },
      "outputs": [],
      "source": [
        "X = np.zeros((len(prev_words), WORD_LENGTH, len(unique_words)), dtype=bool)\n",
        "Y = np.zeros((len(next_words), len(unique_words)), dtype=bool)\n",
        "for i, each_words in enumerate(prev_words):\n",
        "    for j, each_word in enumerate(each_words):\n",
        "        X[i, j, unique_word_index[each_word]] = 1\n",
        "    Y[i, unique_word_index[next_words[i]]] = 1\n"
      ]
    },
    {
      "cell_type": "code",
      "execution_count": 15,
      "metadata": {
        "id": "833Pld17oETW"
      },
      "outputs": [],
      "source": [
        "model = Sequential()\n",
        "model.add(LSTM(128, input_shape=(WORD_LENGTH, len(unique_words))))\n",
        "model.add(Dense(len(unique_words)))\n",
        "model.add(Activation('softmax'))"
      ]
    },
    {
      "cell_type": "code",
      "execution_count": 18,
      "metadata": {
        "colab": {
          "base_uri": "https://localhost:8080/"
        },
        "id": "cFYkKpVooEQT",
        "outputId": "86367dee-6fa1-4233-b54c-0acfabb1fb96"
      },
      "outputs": [
        {
          "output_type": "stream",
          "name": "stdout",
          "text": [
            "Epoch 1/10\n",
            "811/811 [==============================] - 229s 280ms/step - loss: 5.8548 - accuracy: 0.1204 - val_loss: 7.1015 - val_accuracy: 0.0972\n",
            "Epoch 2/10\n",
            "811/811 [==============================] - 225s 278ms/step - loss: 5.7929 - accuracy: 0.1515 - val_loss: 7.8103 - val_accuracy: 0.1066\n",
            "Epoch 3/10\n",
            "811/811 [==============================] - 225s 277ms/step - loss: 5.7108 - accuracy: 0.1794 - val_loss: 7.9690 - val_accuracy: 0.1093\n",
            "Epoch 4/10\n",
            "811/811 [==============================] - 225s 277ms/step - loss: 5.3880 - accuracy: 0.2143 - val_loss: 8.2864 - val_accuracy: 0.0983\n",
            "Epoch 5/10\n",
            "811/811 [==============================] - 225s 277ms/step - loss: 5.0706 - accuracy: 0.2536 - val_loss: 8.3829 - val_accuracy: 0.0996\n",
            "Epoch 6/10\n",
            "811/811 [==============================] - 224s 277ms/step - loss: 4.8011 - accuracy: 0.2950 - val_loss: 8.5188 - val_accuracy: 0.0877\n",
            "Epoch 7/10\n",
            "811/811 [==============================] - 225s 277ms/step - loss: 4.5618 - accuracy: 0.3350 - val_loss: 8.8408 - val_accuracy: 0.0851\n",
            "Epoch 8/10\n",
            "811/811 [==============================] - 225s 278ms/step - loss: 4.3613 - accuracy: 0.3745 - val_loss: 9.0353 - val_accuracy: 0.0828\n",
            "Epoch 9/10\n",
            "811/811 [==============================] - 225s 278ms/step - loss: 4.1812 - accuracy: 0.4107 - val_loss: 9.2359 - val_accuracy: 0.0787\n",
            "Epoch 10/10\n",
            "811/811 [==============================] - 225s 277ms/step - loss: 4.0238 - accuracy: 0.4408 - val_loss: 9.1789 - val_accuracy: 0.0721\n"
          ]
        }
      ],
      "source": [
        "optimizer = RMSprop(lr=0.01)\n",
        "model.compile(loss='categorical_crossentropy', optimizer=optimizer, metrics=['accuracy'])\n",
        "history = model.fit(X, Y, validation_split=0.05, batch_size=128, epochs=10, shuffle=True).history"
      ]
    },
    {
      "cell_type": "code",
      "execution_count": 3,
      "metadata": {
        "id": "xpGpplUxoEM-",
        "colab": {
          "base_uri": "https://localhost:8080/"
        },
        "outputId": "d65562dd-1182-40dd-fa4f-a134507252fd"
      },
      "outputs": [
        {
          "output_type": "stream",
          "name": "stdout",
          "text": [
            "import numpy as np\n",
            "from nltk.tokenize import RegexpTokenizer\n",
            "from tensorflow.keras.models import Sequential, load_model\n",
            "from tensorflow.keras.layers import LSTM\n",
            "from keras.layers.core import Dense, Activation\n",
            "from tensorflow.keras.optimizers import RMSprop\n",
            "import matplotlib.pyplot as plt\n",
            "import pickle\n",
            "import heapq\n",
            "text = open('1661-0.txt' ,encoding ='UTF-8').read().lower()\n",
            "print('corpus length:', len(text))\n",
            "history\n"
          ]
        }
      ],
      "source": [
        "history"
      ]
    },
    {
      "cell_type": "code",
      "execution_count": 19,
      "metadata": {
        "id": "xCIa5NieoEJ_",
        "colab": {
          "base_uri": "https://localhost:8080/",
          "height": 312
        },
        "outputId": "aec7d8da-555c-46a7-e732-ec878a39187d"
      },
      "outputs": [
        {
          "output_type": "execute_result",
          "data": {
            "text/plain": [
              "<matplotlib.legend.Legend at 0x7f2ac893a590>"
            ]
          },
          "metadata": {},
          "execution_count": 19
        },
        {
          "output_type": "display_data",
          "data": {
            "text/plain": [
              "<Figure size 432x288 with 1 Axes>"
            ],
            "image/png": "[encoded data removed]"
          },
          "metadata": {
            "needs_background": "light"
          }
        }
      ],
      "source": [
        "plt.plot(history['accuracy'])\n",
        "plt.plot(history['val_accuracy'])\n",
        "plt.title('model accuracy')\n",
        "plt.ylabel('accuracy')\n",
        "plt.xlabel('epoch')\n",
        "plt.legend(['train', 'test'], loc='upper left')"
      ]
    },
    {
      "cell_type": "code",
      "execution_count": 20,
      "metadata": {
        "id": "L502xUAxoEG-",
        "colab": {
          "base_uri": "https://localhost:8080/",
          "height": 312
        },
        "outputId": "70066c4b-c187-4ea4-9967-9f48d765deb5"
      },
      "outputs": [
        {
          "output_type": "execute_result",
          "data": {
            "text/plain": [
              "<matplotlib.legend.Legend at 0x7f2acbdc9750>"
            ]
          },
          "metadata": {},
          "execution_count": 20
        },
        {
          "output_type": "display_data",
          "data": {
            "text/plain": [
              "<Figure size 432x288 with 1 Axes>"
            ],
            "image/png": "[encoded data removed]"
          },
          "metadata": {
            "needs_background": "light"
          }
        }
      ],
      "source": [
        "plt.plot(history['loss'])\n",
        "plt.plot(history['val_loss'])\n",
        "plt.title('model loss')\n",
        "plt.ylabel('loss')\n",
        "plt.xlabel('epoch')\n",
        "plt.legend(['train', 'test'], loc='upper left')"
      ]
    },
    {
      "cell_type": "code",
      "execution_count": 21,
      "metadata": {
        "id": "9q0dmayOoEEV",
        "colab": {
          "base_uri": "https://localhost:8080/"
        },
        "outputId": "7ab45a8b-0229-439d-a017-29402724ab2c"
      },
      "outputs": [
        {
          "output_type": "stream",
          "name": "stdout",
          "text": [
            "it\n",
            "is\n",
            "not\n",
            "a\n",
            "lack\n"
          ]
        },
        {
          "output_type": "execute_result",
          "data": {
            "text/plain": [
              "array([[[0., 0., 0., ..., 0., 0., 0.],\n",
              "        [0., 0., 0., ..., 0., 0., 0.],\n",
              "        [0., 0., 0., ..., 0., 0., 0.],\n",
              "        [0., 0., 0., ..., 0., 0., 0.],\n",
              "        [0., 0., 0., ..., 0., 0., 0.]]])"
            ]
          },
          "metadata": {},
          "execution_count": 21
        }
      ],
      "source": [
        "def prepare_input(text):\n",
        "    x = np.zeros((1, WORD_LENGTH, len(unique_words)))\n",
        "    for t, word in enumerate(text.split()):\n",
        "        print(word)\n",
        "        x[0, t, unique_word_index[word]] = 1\n",
        "    return x\n",
        "prepare_input(\"It is not a lack\".lower())"
      ]
    },
    {
      "cell_type": "code",
      "execution_count": 22,
      "metadata": {
        "id": "yyyk-F3qoEBN"
      },
      "outputs": [],
      "source": [
        "def sample(preds, top_n=3):\n",
        "    preds = np.asarray(preds).astype('float64')\n",
        "    preds = np.log(preds)\n",
        "    exp_preds = np.exp(preds)\n",
        "    preds = exp_preds / np.sum(exp_preds)\n",
        "\n",
        "    return heapq.nlargest(top_n, range(len(preds)), preds.take)"
      ]
    },
    {
      "cell_type": "code",
      "execution_count": 23,
      "metadata": {
        "id": "OuSUccoHoD-G"
      },
      "outputs": [],
      "source": [
        "def predict_completions(text, n=3):\n",
        "    if text == \"\":\n",
        "        return(\"0\")\n",
        "    x = prepare_input(text)\n",
        "    preds = model.predict(x, verbose=0)[0]\n",
        "    next_indices = sample(preds, n)\n",
        "    return [unique_words[idx] for idx in next_indices]"
      ]
    },
    {
      "cell_type": "code",
      "execution_count": 24,
      "metadata": {
        "id": "GJsoZDK0oD7c",
        "colab": {
          "base_uri": "https://localhost:8080/"
        },
        "outputId": "6062b0cf-cde4-46cf-d2f0-5b64a5258882"
      },
      "outputs": [
        {
          "output_type": "stream",
          "name": "stdout",
          "text": [
            "correct sentence:  There is nothing more deceptive than an obvious fact\n",
            "Sequence:  there is nothing more deceptive\n",
            "there\n",
            "is\n",
            "nothing\n",
            "more\n",
            "deceptive\n",
            "next possible words:  ['than', 'to', 'said', 'be', 'your']\n"
          ]
        }
      ],
      "source": [
        "q =  \"There is nothing more deceptive than an obvious fact\"\n",
        "print(\"correct sentence: \",q)\n",
        "seq = \" \".join(tokenizer.tokenize(q.lower())[0:5])\n",
        "print(\"Sequence: \",seq)\n",
        "print(\"next possible words: \", predict_completions(seq, 5))"
      ]
    }
  ],
  "metadata": {
    "colab": {
      "collapsed_sections": [],
      "name": "LGMVIP_TASK02.ipynb",
      "provenance": [],
      "toc_visible": true
    },
    "kernelspec": {
      "display_name": "Python 3",
      "name": "python3"
    },
    "language_info": {
      "name": "python"
    }
  },
  "nbformat": 4,
  "nbformat_minor": 0
}